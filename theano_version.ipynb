{
 "cells": [
  {
   "cell_type": "code",
   "execution_count": 1,
   "metadata": {
    "collapsed": false
   },
   "outputs": [],
   "source": [
    "import theano\n",
    "import numpy as np\n",
    "import theano.tensor as T\n",
    "from theano import function"
   ]
  },
  {
   "cell_type": "code",
   "execution_count": null,
   "metadata": {
    "collapsed": true
   },
   "outputs": [],
   "source": [
    "a = theano.tensor.vector() # declare variable\n",
    "out = a + a ** 10               # build symbolic expression\n",
    "f = theano.function([a], out)   # compile function\n",
    "print(f([0, 1, 2]))\n"
   ]
  },
  {
   "cell_type": "code",
   "execution_count": 24,
   "metadata": {
    "collapsed": false
   },
   "outputs": [
    {
     "name": "stdout",
     "output_type": "stream",
     "text": [
      "<type 'numpy.ndarray'>\n",
      "<class 'numpy.matrixlib.defmatrix.matrix'>\n"
     ]
    }
   ],
   "source": [
    "tmparr = numpy.asarray( [ [1,2,3],[3,32,2] ])\n",
    "\n",
    "tmparr= np.array(  [  [1,3],[2,3] ]   )\n",
    "tmpmat= np.matrix(  [ [12,12],[23,23] ]  )\n",
    "\n",
    "print type(tmparr)\n",
    "print type(tmpmat)"
   ]
  },
  {
   "cell_type": "code",
   "execution_count": 15,
   "metadata": {
    "collapsed": false
   },
   "outputs": [
    {
     "name": "stdout",
     "output_type": "stream",
     "text": [
      "[[  5.  14.]\n",
      " [  5.  14.]]\n"
     ]
    }
   ],
   "source": [
    "sa= T.dscalar('x')\n",
    "sb= T.dscalar('y')\n",
    "val= sa+sb+sb\n",
    "f= function([ sa, sb], val)\n",
    "f(9,10)\n",
    "\n",
    "mat_a= T.dmatrix('mx')\n",
    "mat_b= T.dmatrix('my')\n",
    "mat_z= mat_a +  T.dot(mat_b, mat_b)\n",
    "mat_f= function([ mat_a, mat_b], mat_z)\n",
    "print mat_f( numpy.array([ [ 1,2  ],[1,2] ]) , numpy.array([ [ 1,3  ],[1,3] ] ) )"
   ]
  },
  {
   "cell_type": "code",
   "execution_count": 40,
   "metadata": {
    "collapsed": false
   },
   "outputs": [
    {
     "name": "stdout",
     "output_type": "stream",
     "text": [
      "[array([[ 0.73105858,  0.88079708],\n",
      "       [ 1.        ,  1.        ]]), array([[   1.73105858,    2.88079708],\n",
      "       [  33.        ,  233.        ]])]\n"
     ]
    }
   ],
   "source": [
    "# logistic regression \n",
    "\n",
    "mat_x= T.dmatrix('x')\n",
    "mat_y= T.dmatrix('y')\n",
    "# f = 1/( 1+ T.exp(- mat_x)  )\n",
    "# logitF = function(  [mat_x], f   )\n",
    "# print logitF(  np.matrix( [ [1,2],[32,232] ]   )   )\n",
    "\n",
    "logitF = 1/( 1+ T.exp(- mat_x)  )\n",
    "addF =  mat_x + logitF\n",
    "compF = function(  [mat_x], [logitF, addF]   )\n",
    "\n",
    "print compF(   np.matrix( [ [1,2],[32,232] ])    )"
   ]
  },
  {
   "cell_type": "code",
   "execution_count": 48,
   "metadata": {
    "collapsed": false
   },
   "outputs": [
    {
     "data": {
      "text/plain": [
       "array(34.0)"
      ]
     },
     "execution_count": 48,
     "metadata": {},
     "output_type": "execute_result"
    }
   ],
   "source": [
    "from theano import In\n",
    "\n",
    "sx= T.dscalar('x')\n",
    "sy= T.dscalar('y')\n",
    "z= sx + sy\n",
    "f = function([sx, In(sy, value=1)], z)\n",
    "# f= function( [sx, In(sy,value=1)], z)\n",
    "f( 33 )\n"
   ]
  },
  {
   "cell_type": "code",
   "execution_count": 50,
   "metadata": {
    "collapsed": false
   },
   "outputs": [
    {
     "data": {
      "text/plain": [
       "array(24.0)"
      ]
     },
     "execution_count": 50,
     "metadata": {},
     "output_type": "execute_result"
    }
   ],
   "source": [
    "x, y = T.dscalars('x', 'y')\n",
    "z = x + y\n",
    "f = function([x, y], z)\n",
    "\n",
    "f(12,12)"
   ]
  },
  {
   "cell_type": "code",
   "execution_count": 51,
   "metadata": {
    "collapsed": false
   },
   "outputs": [
    {
     "data": {
      "text/plain": [
       "array([[ 2.,  4.],\n",
       "       [ 6.,  4.]])"
      ]
     },
     "execution_count": 51,
     "metadata": {},
     "output_type": "execute_result"
    }
   ],
   "source": [
    "a, b = T.dmatrices('a', 'b')\n",
    "z= a+b\n",
    "f = theano.function([a, b], z)\n",
    "f( np.matrix( [[1,2],[3,2]] ),np.matrix( [[1,2],[3,2]] )    )"
   ]
  },
  {
   "cell_type": "code",
   "execution_count": null,
   "metadata": {
    "collapsed": true
   },
   "outputs": [],
   "source": [
    "# shared variable "
   ]
  },
  {
   "cell_type": "code",
   "execution_count": 1,
   "metadata": {
    "collapsed": false
   },
   "outputs": [
    {
     "data": {
      "text/plain": [
       "[0, 0, 0, 0, 0, 0, 0, 0, 0, 0]"
      ]
     },
     "execution_count": 1,
     "metadata": {},
     "output_type": "execute_result"
    }
   ],
   "source": [
    "[0]*10"
   ]
  }
 ],
 "metadata": {
  "kernelspec": {
   "display_name": "Python 2",
   "language": "python",
   "name": "python2"
  },
  "language_info": {
   "codemirror_mode": {
    "name": "ipython",
    "version": 2
   },
   "file_extension": ".py",
   "mimetype": "text/x-python",
   "name": "python",
   "nbconvert_exporter": "python",
   "pygments_lexer": "ipython2",
   "version": "2.7.6"
  }
 },
 "nbformat": 4,
 "nbformat_minor": 0
}
