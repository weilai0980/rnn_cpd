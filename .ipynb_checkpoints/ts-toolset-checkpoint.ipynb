{
 "cells": [
  {
   "cell_type": "code",
   "execution_count": null,
   "metadata": {
    "collapsed": true
   },
   "outputs": [],
   "source": [
    "# http://www.johnwittenauer.net/a-simple-time-series-analysis-of-the-sp-500-index/\n",
    "\n",
    "\n",
    "%matplotlib inline\n",
    "import os  \n",
    "import numpy as np  \n",
    "import pandas as pd  \n",
    "import matplotlib.pyplot as plt  \n",
    "import statsmodels.api as sm  \n",
    "import seaborn as sb  \n",
    "sb.set_style('darkgrid')\n",
    "\n",
    "path = os.getcwd() + '\\data\\stock_data.csv'  \n",
    "stock_data = pd.read_csv(path)  \n",
    "stock_data['Date'] = stock_data['Date'].convert_objects(convert_dates='coerce')  \n",
    "stock_data = stock_data.sort_index(by='Date')  \n",
    "stock_data = stock_data.set_index('Date')  "
   ]
  }
 ],
 "metadata": {
  "kernelspec": {
   "display_name": "Python 2",
   "language": "python",
   "name": "python2"
  },
  "language_info": {
   "codemirror_mode": {
    "name": "ipython",
    "version": 2
   },
   "file_extension": ".py",
   "mimetype": "text/x-python",
   "name": "python",
   "nbconvert_exporter": "python",
   "pygments_lexer": "ipython2",
   "version": "2.7.6"
  }
 },
 "nbformat": 4,
 "nbformat_minor": 0
}
